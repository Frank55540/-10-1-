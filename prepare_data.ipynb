import os
import numpy as np
DATA_ROOT_DIR = '/home/aistudio/work/data'

def make_list():
    img_list = [img.split('.')[0] for img in os.listdir(os.path.join(DATA_ROOT_DIR, 'img_train'))]
    data_path_list = []
    for image_id in img_list:
        image_path = os.path.join(DATA_ROOT_DIR, 'img_train', f"{image_id}.jpg")
        label_path = os.path.join(DATA_ROOT_DIR, 'lab_train', f"{image_id}.png")
        data_path_list.append((image_path, label_path))
        if not os.path.exists(image_path) or not os.path.exists(label_path):
            print(f"invalid path {image_path}")
    
    np.random.seed(5)
    np.random.shuffle(data_path_list)
    total_len = len(data_path_list)
    train_data_len = int(total_len*0.95)
    train_data = data_path_list[0 : train_data_len]
    val_data = data_path_list[train_data_len : ]

    with open(os.path.join(DATA_ROOT_DIR, 'train_list.txt'), "w") as f:
        for image, label in train_data:
            f.write(f"{image} {label}\n")

    with open(os.path.join(DATA_ROOT_DIR, 'val_list.txt'), "w") as f:
        for image, label in val_data:
            f.write(f"{image} {label}\n")


if __name__ == '__main__':
    make_list()