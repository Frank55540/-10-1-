batch_size: 24
iters: 150000

train_dataset:
  type: RemoteSensing
  train_dataset_root: /home/aistudio/work/data
  negetive_ratio: 0
  transforms: 
    - type: ResizeStepScaling
      min_scale_factor: 0.75
      max_scale_factor: 1.5
      scale_step_size: 0.25
    - type: RandomHorizontalFlip
    - type: RandomVerticalFlip
    - type: RandomRotation
      max_rotation: 30
    - type: RandomDistort
      brightness_range: 0.2
      contrast_range: 0.2
      saturation_range: 0.2
    - type: Normalize
    - type: Resize
      target_size: [256, 256]
  mode: train

val_dataset:
  type: RemoteSensing
  train_dataset_root: /home/aistudio/work/data
  transforms:
    - type: Resize
      target_size: [256, 256]
    - type: Normalize
  mode: val

optimizer:
  type: sgd
  momentum: 0.9
  weight_decay: 4.0e-5

lr_scheduler:
  type: PolynomialDecay
  learning_rate: 0.01
  end_lr: 0
  power: 0.9

loss:
  types:
    - type: CrossEntropyLoss
  coef: [1, 0.4]

model:
  type: OCRNet
  backbone:
    type: HRNet_W48
    align_corners: False
    pretrained: https://bj.bcebos.com/paddleseg/dygraph/hrnet_w48_ssld.tar.gz
  backbone_indices: [-1]
  pretrained: https://bj.bcebos.com/paddleseg/dygraph/ccf/fcn_hrnetw48_rs_256x256_160k/model.pdparams
